{
 "cells": [
  {
   "cell_type": "code",
   "execution_count": 1,
   "metadata": {},
   "outputs": [],
   "source": [
    "import os"
   ]
  },
  {
   "cell_type": "code",
   "execution_count": 2,
   "metadata": {},
   "outputs": [
    {
     "data": {
      "text/plain": [
       "'c:\\\\Users\\\\ranro\\\\Documents\\\\ML_Projects\\\\end_to_end_ml_mlflow\\\\research'"
      ]
     },
     "execution_count": 2,
     "metadata": {},
     "output_type": "execute_result"
    }
   ],
   "source": [
    "%pwd"
   ]
  },
  {
   "cell_type": "code",
   "execution_count": 3,
   "metadata": {},
   "outputs": [],
   "source": [
    "os.chdir('../')"
   ]
  },
  {
   "cell_type": "code",
   "execution_count": 4,
   "metadata": {},
   "outputs": [
    {
     "data": {
      "text/plain": [
       "'c:\\\\Users\\\\ranro\\\\Documents\\\\ML_Projects\\\\end_to_end_ml_mlflow'"
      ]
     },
     "execution_count": 4,
     "metadata": {},
     "output_type": "execute_result"
    }
   ],
   "source": [
    "%pwd"
   ]
  },
  {
   "cell_type": "code",
   "execution_count": 5,
   "metadata": {},
   "outputs": [],
   "source": [
    "# defining environement variables\n",
    "os.environ[\"MLFLOW_TRACKING_URI\"]=\"https://dagshub.com/ranro3/end_to_end_ml_mlflow.mlflow\"\n",
    "os.environ[\"MLFLOW_TRACKING_USERNAME\"]=\"ranro3\"\n",
    "os.environ[\"MLFLOW_TRACKING_PASSWORD\"]=\"4841ebe9c6cccbf89d4e5c07339d949acf33652e\""
   ]
  },
  {
   "cell_type": "code",
   "execution_count": 18,
   "metadata": {},
   "outputs": [],
   "source": [
    "from dataclasses import dataclass\n",
    "from pathlib import Path\n",
    "\n",
    "@dataclass(frozen=True)\n",
    "class ModelEvaluationConfig:\n",
    "    root_dir: Path\n",
    "    test_data_path: Path\n",
    "    model_path: Path\n",
    "    all_params: dict\n",
    "    metric_file_name: Path  \n",
    "    target_column: str\n",
    "    mlflow_uri: str"
   ]
  },
  {
   "cell_type": "code",
   "execution_count": 19,
   "metadata": {},
   "outputs": [],
   "source": [
    "from mlProject.constants import *\n",
    "from mlProject.utils.common import read_yaml, create_dirs, save_to_json"
   ]
  },
  {
   "cell_type": "code",
   "execution_count": 20,
   "metadata": {},
   "outputs": [],
   "source": [
    "class ConfigurationManager:\n",
    "    \"\"\"\n",
    "    Class to represent a configuration managder for initialize\n",
    "    configurations from config.yaml.\n",
    "    \"\"\"\n",
    "    def __init__(\n",
    "            self,\n",
    "            config_filepath = CONFIG_FILE_PATH,\n",
    "            params_filepath = PARAMS_FILE_PATH,\n",
    "            schema_filepath = SCHEMA_FILE_PATH):\n",
    "\n",
    "        self.config = read_yaml(config_filepath)\n",
    "        self.params = read_yaml(params_filepath)\n",
    "        self.schema = read_yaml(schema_filepath)\n",
    "\n",
    "        # creates directories for model_trainer\n",
    "        create_dirs([self.config.artifacts_root])\n",
    "\n",
    "    def get_model_evaluation_config(self) -> ModelEvaluationConfig:\n",
    "        config = self.config.model_evaluation\n",
    "        params = self.params.ElasticNet\n",
    "        target = self.schema.TARGET_COLUMN\n",
    "\n",
    "        create_dirs([config.root_dir])\n",
    "\n",
    "        model_evaluation_config = ModelEvaluationConfig(\n",
    "            root_dir=config.root_dir,\n",
    "            test_data_path=config.test_data_path,\n",
    "            model_path=config.model_path,\n",
    "            all_params=params,\n",
    "            metric_file_name=config.metric_file_name,\n",
    "            target_column=target.name,\n",
    "            mlflow_uri=\"https://dagshub.com/ranro3/end_to_end_ml_mlflow.mlflow\"\n",
    "        )\n",
    "\n",
    "        return model_evaluation_config\n",
    "    "
   ]
  },
  {
   "cell_type": "code",
   "execution_count": 21,
   "metadata": {},
   "outputs": [],
   "source": [
    "import os\n",
    "import pandas as pd\n",
    "from sklearn.metrics import mean_absolute_error, mean_squared_error, r2_score\n",
    "from urllib.parse import urlparse\n",
    "import mlflow\n",
    "import mlflow.sklearn\n",
    "import numpy as np\n",
    "import joblib"
   ]
  },
  {
   "cell_type": "code",
   "execution_count": 22,
   "metadata": {},
   "outputs": [],
   "source": [
    "class ModelEvaluation:\n",
    "    def __init__(self, config: ModelEvaluationConfig):\n",
    "        self.config = config\n",
    "\n",
    "    def eval_metrics(self, actual, preds):\n",
    "        \"\"\"\n",
    "        Calculates and returns the following metrics:\n",
    "            - Mean Squared Error\n",
    "            - Mean Absolute Error\n",
    "            - R^2\n",
    "\n",
    "        Args:\n",
    "            actual - contains the true values\n",
    "            pred - contains the predicted values from the model\n",
    "\n",
    "        Returns:\n",
    "            rmse - double, root mean squeared error\n",
    "            mae - double, mean absolute error\n",
    "            r2 - double, r^2 metric\n",
    "        \"\"\"\n",
    "        rmse = np.sqrt(mean_squared_error(actual, preds))\n",
    "        mae = mean_absolute_error(actual, preds)\n",
    "        r2 = r2_score(actual, preds)\n",
    "\n",
    "        return rmse, mae, r2\n",
    "    \n",
    "    def log_to_mlflow(self):\n",
    "        \"\"\"\n",
    "        Logs the metrics, parametrs and model to MLFlow\n",
    "        \"\"\"\n",
    "        \n",
    "        # loads test data and model\n",
    "        test_data = pd.read_csv(self.config.test_data_path)\n",
    "        model = joblib.load(self.config.model_path)\n",
    "\n",
    "        # defines X_test and y_test\n",
    "        X_test = test_data.drop([self.config.target_column], axis=1)\n",
    "        y_test = test_data[[self.config.target_column]]\n",
    "\n",
    "        # sets tracking uri\n",
    "        mlflow.set_registry_uri(self.config.mlflow_uri)\n",
    "        tracking_url_type_store = urlparse(mlflow.get_tracking_uri()).scheme\n",
    "\n",
    "        # starts mlflow tracking\n",
    "        with mlflow.start_run():\n",
    "            # calculate scores\n",
    "            preds = model.predict(X_test)\n",
    "            (rmse, mae, r2) = self.eval_metrics(y_test, preds)\n",
    "\n",
    "            # saves metrics locally\n",
    "            scores = {\"rmse\": rmse, \"mae\": mae, \"r2\": r2}\n",
    "            save_to_json(path=Path(self.config.metric_file_name), data=scores)\n",
    "\n",
    "            # logs parameters to mlflow\n",
    "            mlflow.log_params(self.config.all_params)\n",
    "            mlflow.log_metric(\"rmse\", rmse)\n",
    "            mlflow.log_metric(\"mae\", mae)\n",
    "            mlflow.log_metric(\"r2\", r2)\n",
    "            \n",
    "            # logs model to mlflow\n",
    "            mlflow.sklearn.log_model(model, \"model\", registered_model_name=\"ElasticNet\")\n",
    "           \n",
    "\n"
   ]
  },
  {
   "cell_type": "code",
   "execution_count": 24,
   "metadata": {},
   "outputs": [
    {
     "name": "stdout",
     "output_type": "stream",
     "text": [
      "[2023-11-21 11:20:36,623: INFO: common: yaml file: config\\config.yaml loaded successfully]\n",
      "[2023-11-21 11:20:36,627: INFO: common: yaml file: params.yaml loaded successfully]\n",
      "[2023-11-21 11:20:36,629: INFO: common: yaml file: schema.yaml loaded successfully]\n",
      "[2023-11-21 11:20:36,631: INFO: common: Folder artifacts was created successfully]\n",
      "[2023-11-21 11:20:36,632: INFO: common: Folder artifacts/model_evaluation was created successfully]\n",
      "[2023-11-21 11:20:39,243: INFO: common: json file saved at artifacts\\model_evaluation\\metrics.json]\n"
     ]
    },
    {
     "name": "stderr",
     "output_type": "stream",
     "text": [
      "Registered model 'ElasticNet' already exists. Creating a new version of this model...\n",
      "2023/11/21 11:20:58 INFO mlflow.tracking._model_registry.client: Waiting up to 300 seconds for model version to finish creation.                     Model name: ElasticNet, version 4\n",
      "Created version '4' of model 'ElasticNet'.\n"
     ]
    }
   ],
   "source": [
    "try:\n",
    "    config = ConfigurationManager()\n",
    "    model_evaluation_config = config.get_model_evaluation_config()\n",
    "    model_evaluation_config = ModelEvaluation(config=model_evaluation_config)\n",
    "    model_evaluation_config.log_to_mlflow()\n",
    "except Exception as e:\n",
    "    raise e\n",
    "    "
   ]
  },
  {
   "cell_type": "code",
   "execution_count": null,
   "metadata": {},
   "outputs": [],
   "source": []
  },
  {
   "cell_type": "code",
   "execution_count": null,
   "metadata": {},
   "outputs": [],
   "source": []
  }
 ],
 "metadata": {
  "kernelspec": {
   "display_name": "end_to_end_ml",
   "language": "python",
   "name": "python3"
  },
  "language_info": {
   "codemirror_mode": {
    "name": "ipython",
    "version": 3
   },
   "file_extension": ".py",
   "mimetype": "text/x-python",
   "name": "python",
   "nbconvert_exporter": "python",
   "pygments_lexer": "ipython3",
   "version": "3.9.18"
  }
 },
 "nbformat": 4,
 "nbformat_minor": 2
}
